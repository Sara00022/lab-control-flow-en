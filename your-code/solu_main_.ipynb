{
  "cells": [
    {
      "cell_type": "markdown",
      "metadata": {
        "id": "fhA43sIaAlal"
      },
      "source": [
        "## Words"
      ]
    },
    {
      "cell_type": "code",
      "execution_count": 3,
      "metadata": {
        "id": "Jmo_nDfbAlao"
      },
      "outputs": [],
      "source": [
        "words = ['play', 'filling', 'bar', 'theatre', 'easygoing', 'date', 'lead', 'that', 'story',  'island']"
      ]
    },
    {
      "cell_type": "markdown",
      "metadata": {
        "id": "HfGFYWnyAlar"
      },
      "source": [
        "**Print every word in upper case**"
      ]
    },
    {
      "cell_type": "code",
      "execution_count": 6,
      "metadata": {
        "colab": {
          "base_uri": "https://localhost:8080/"
        },
        "id": "-u-zhv3ZAlas",
        "outputId": "d08e73d9-8233-401b-e287-3889738140d4"
      },
      "outputs": [
        {
          "output_type": "stream",
          "name": "stdout",
          "text": [
            "PLAY\n",
            "FILLING\n",
            "BAR\n",
            "THEATRE\n",
            "EASYGOING\n",
            "DATE\n",
            "LEAD\n",
            "THAT\n",
            "STORY\n",
            "ISLAND\n"
          ]
        }
      ],
      "source": [
        "# your code here\n",
        "for word in words:\n",
        " print(word.upper())"
      ]
    },
    {
      "cell_type": "markdown",
      "metadata": {
        "id": "81Sc2VAnAlat"
      },
      "source": [
        "**Create a new list containing only words with 5 or more letters**"
      ]
    },
    {
      "cell_type": "code",
      "execution_count": 7,
      "metadata": {
        "colab": {
          "base_uri": "https://localhost:8080/"
        },
        "id": "-xyNG1_OAlau",
        "outputId": "a2192c5c-4f38-4fee-b8bf-abb6e4df374c"
      },
      "outputs": [
        {
          "output_type": "stream",
          "name": "stdout",
          "text": [
            "['filling', 'theatre', 'easygoing', 'story', 'island']\n"
          ]
        }
      ],
      "source": [
        "# your code here\n",
        "words = ['play', 'filling', 'bar', 'theatre', 'easygoing', 'date', 'lead', 'that', 'story', 'island']\n",
        "\n",
        "long_words = [word for word in words if len(word) >= 5]\n",
        "\n",
        "print(long_words)\n"
      ]
    },
    {
      "cell_type": "markdown",
      "metadata": {
        "id": "_4N02ArdAlav"
      },
      "source": [
        "**Print the first word starting with \"t\"**"
      ]
    },
    {
      "cell_type": "code",
      "execution_count": 8,
      "metadata": {
        "colab": {
          "base_uri": "https://localhost:8080/"
        },
        "id": "3iEpNf4NAlaw",
        "outputId": "a63848e0-7e7d-4099-94e3-12a17a7a2da8"
      },
      "outputs": [
        {
          "output_type": "stream",
          "name": "stdout",
          "text": [
            "theatre\n"
          ]
        }
      ],
      "source": [
        "# your code here\n",
        "words = ['play', 'filling', 'bar', 'theatre', 'easygoing', 'date', 'lead', 'that', 'story', 'island']\n",
        "\n",
        "for word in words:\n",
        "    if word.startswith('t'):\n",
        "        print(word)\n",
        "        break\n"
      ]
    },
    {
      "cell_type": "markdown",
      "metadata": {
        "id": "fV-YOwAvAlax"
      },
      "source": [
        "## Numbers"
      ]
    },
    {
      "cell_type": "markdown",
      "metadata": {
        "id": "krGOw9XqAlax"
      },
      "source": [
        "**Create a list containing the square of every number from 1 to 10**"
      ]
    },
    {
      "cell_type": "code",
      "execution_count": 9,
      "metadata": {
        "colab": {
          "base_uri": "https://localhost:8080/"
        },
        "id": "ayoOfFMVAlay",
        "outputId": "5eb5bd5e-a184-4ed8-8f26-29819bd36ced"
      },
      "outputs": [
        {
          "output_type": "stream",
          "name": "stdout",
          "text": [
            "[1, 4, 9, 16, 25, 36, 49, 64, 81, 100]\n"
          ]
        }
      ],
      "source": [
        "# your code here\n",
        "squares = [num ** 2 for num in range(1, 11)]\n",
        "print(squares)\n"
      ]
    },
    {
      "cell_type": "markdown",
      "metadata": {
        "id": "r38cNW_IAlaz"
      },
      "source": [
        "**Print a list containing the square of every odd number from 1 to 10**"
      ]
    },
    {
      "cell_type": "code",
      "execution_count": 10,
      "metadata": {
        "colab": {
          "base_uri": "https://localhost:8080/"
        },
        "id": "tZ9LfH_rAlaz",
        "outputId": "841353a0-b5a3-440b-ce6d-fb294222a6bf"
      },
      "outputs": [
        {
          "output_type": "stream",
          "name": "stdout",
          "text": [
            "[1, 9, 25, 49, 81]\n"
          ]
        }
      ],
      "source": [
        "# your code here\n",
        "squares = [num ** 2 for num in range(1, 11) if num % 2 != 0]\n",
        "print(squares)\n"
      ]
    },
    {
      "cell_type": "markdown",
      "metadata": {
        "id": "TMKJjs2iAlaz"
      },
      "source": [
        "**Create a list with the squares of all multiples of 8 below 1000**"
      ]
    },
    {
      "cell_type": "code",
      "execution_count": 11,
      "metadata": {
        "colab": {
          "base_uri": "https://localhost:8080/"
        },
        "id": "ZY89MFV1Ala0",
        "outputId": "5f8ae6b5-33ae-4fdd-dfd1-383cabcd4ce1"
      },
      "outputs": [
        {
          "output_type": "stream",
          "name": "stdout",
          "text": [
            "[64, 256, 576, 1024, 1600, 2304, 3136, 4096, 5184, 6400, 7744, 9216, 10816, 12544, 14400, 16384, 18496, 20736, 23104, 25600, 28224, 30976, 33856, 36864, 40000, 43264, 46656, 50176, 53824, 57600, 61504, 65536, 69696, 73984, 78400, 82944, 87616, 92416, 97344, 102400, 107584, 112896, 118336, 123904, 129600, 135424, 141376, 147456, 153664, 160000, 166464, 173056, 179776, 186624, 193600, 200704, 207936, 215296, 222784, 230400, 238144, 246016, 254016, 262144, 270400, 278784, 287296, 295936, 304704, 313600, 322624, 331776, 341056, 350464, 360000, 369664, 379456, 389376, 399424, 409600, 419904, 430336, 440896, 451584, 462400, 473344, 484416, 495616, 506944, 518400, 529984, 541696, 553536, 565504, 577600, 589824, 602176, 614656, 627264, 640000, 652864, 665856, 678976, 692224, 705600, 719104, 732736, 746496, 760384, 774400, 788544, 802816, 817216, 831744, 846400, 861184, 876096, 891136, 906304, 921600, 937024, 952576, 968256, 984064]\n"
          ]
        }
      ],
      "source": [
        "# your code here\n",
        "squares_of_multiples_of_8 = [num ** 2 for num in range(8, 1000, 8)]\n",
        "print(squares_of_multiples_of_8)\n"
      ]
    },
    {
      "cell_type": "markdown",
      "metadata": {
        "id": "_A3mok8KAla0"
      },
      "source": [
        "## People"
      ]
    },
    {
      "cell_type": "code",
      "execution_count": 12,
      "metadata": {
        "id": "EdHvG0HkAla0"
      },
      "outputs": [],
      "source": [
        "people = [\n",
        "    {\n",
        "        \"name\": \"Juan\",\n",
        "        \"age\": 34,\n",
        "        \"n_kids\": 2\n",
        "    },\n",
        "    {\n",
        "        \"name\": \"Pepe\",\n",
        "        \"age\": 27,\n",
        "        \"n_kids\": 0\n",
        "    },\n",
        "    {\n",
        "        \"name\": \"Sonia\",\n",
        "        \"age\": 41,\n",
        "        \"n_kids\": 1\n",
        "    },\n",
        "    {\n",
        "        \"name\": \"Lucía\",\n",
        "        \"age\": 22,\n",
        "        \"n_kids\": 2\n",
        "    },\n",
        "    {\n",
        "        \"name\": \"Leo\",\n",
        "        \"age\": 55,\n",
        "        \"n_kids\": 5\n",
        "    }\n",
        "]"
      ]
    },
    {
      "cell_type": "markdown",
      "metadata": {
        "id": "2Q442CZ9Ala2"
      },
      "source": [
        "**How many people are there?**"
      ]
    },
    {
      "cell_type": "code",
      "execution_count": 13,
      "metadata": {
        "colab": {
          "base_uri": "https://localhost:8080/"
        },
        "id": "FzQfyqpUAla2",
        "outputId": "4a9237ea-5cc4-4e3a-d145-c948b0c302c6"
      },
      "outputs": [
        {
          "output_type": "stream",
          "name": "stdout",
          "text": [
            "5\n"
          ]
        }
      ],
      "source": [
        "# your code here\n",
        "num_people = len(people)\n",
        "print(num_people)"
      ]
    },
    {
      "cell_type": "markdown",
      "metadata": {
        "id": "KG6XsYv8Ala3"
      },
      "source": [
        "**How many people have kids**?"
      ]
    },
    {
      "cell_type": "code",
      "execution_count": 14,
      "metadata": {
        "colab": {
          "base_uri": "https://localhost:8080/"
        },
        "id": "rkMiWjaTAla3",
        "outputId": "eb919568-9456-4bc9-8ea7-89da557d9701"
      },
      "outputs": [
        {
          "output_type": "stream",
          "name": "stdout",
          "text": [
            "4\n"
          ]
        }
      ],
      "source": [
        "# your code here\n",
        "num_people_with_kids = sum(1 for person in people if person['n_kids'] > 0)\n",
        "print(num_people_with_kids)\n"
      ]
    },
    {
      "cell_type": "markdown",
      "metadata": {
        "id": "EPBYh_1vAla3"
      },
      "source": [
        "**How many kids do they have in total?**"
      ]
    },
    {
      "cell_type": "code",
      "execution_count": 16,
      "metadata": {
        "colab": {
          "base_uri": "https://localhost:8080/"
        },
        "id": "_C9jJ-MAAla4",
        "outputId": "953abfc9-b375-46aa-dd3c-b56d4c27875b"
      },
      "outputs": [
        {
          "output_type": "stream",
          "name": "stdout",
          "text": [
            "10\n"
          ]
        }
      ],
      "source": [
        "# your code here\n",
        "total_kids = sum(person['n_kids'] for person in people)\n",
        "print(total_kids)\n"
      ]
    },
    {
      "cell_type": "markdown",
      "metadata": {
        "id": "s7ssDDrvAla4"
      },
      "source": [
        "**In a year's time, names ending with \"a\" will have an extra kid. Create a list of dictionaries with people's info in a year's time**"
      ]
    },
    {
      "cell_type": "code",
      "execution_count": 17,
      "metadata": {
        "colab": {
          "base_uri": "https://localhost:8080/"
        },
        "id": "y51-jTgdAla4",
        "outputId": "f4cb949b-0b45-4489-a1fa-aa2a3df92dd6"
      },
      "outputs": [
        {
          "output_type": "stream",
          "name": "stdout",
          "text": [
            "[{'name': 'Juan', 'age': 34, 'n_kids': 2}, {'name': 'Pepe', 'age': 27, 'n_kids': 0}, {'name': 'Sonia', 'age': 41, 'n_kids': 2}, {'name': 'Lucía', 'age': 22, 'n_kids': 3}, {'name': 'Leo', 'age': 55, 'n_kids': 5}]\n"
          ]
        }
      ],
      "source": [
        "# your code here\n",
        "for person in people:\n",
        "    if person[\"name\"].endswith(\"a\"):\n",
        "        person[\"n_kids\"] += 1\n",
        "\n",
        "print(people)\n",
        "\n",
        "\n"
      ]
    }
  ],
  "metadata": {
    "kernelspec": {
      "display_name": "Python 3 (ipykernel)",
      "language": "python",
      "name": "python3"
    },
    "language_info": {
      "codemirror_mode": {
        "name": "ipython",
        "version": 3
      },
      "file_extension": ".py",
      "mimetype": "text/x-python",
      "name": "python",
      "nbconvert_exporter": "python",
      "pygments_lexer": "ipython3",
      "version": "3.9.13"
    },
    "toc": {
      "base_numbering": 1,
      "nav_menu": {},
      "number_sections": false,
      "sideBar": true,
      "skip_h1_title": false,
      "title_cell": "Table of Contents",
      "title_sidebar": "Contents",
      "toc_cell": false,
      "toc_position": {},
      "toc_section_display": true,
      "toc_window_display": true
    },
    "varInspector": {
      "cols": {
        "lenName": 16,
        "lenType": 16,
        "lenVar": 40
      },
      "kernels_config": {
        "python": {
          "delete_cmd_postfix": "",
          "delete_cmd_prefix": "del ",
          "library": "var_list.py",
          "varRefreshCmd": "print(var_dic_list())"
        },
        "r": {
          "delete_cmd_postfix": ") ",
          "delete_cmd_prefix": "rm(",
          "library": "var_list.r",
          "varRefreshCmd": "cat(var_dic_list()) "
        }
      },
      "types_to_exclude": [
        "module",
        "function",
        "builtin_function_or_method",
        "instance",
        "_Feature"
      ],
      "window_display": false
    },
    "vscode": {
      "interpreter": {
        "hash": "aee8b7b246df8f9039afb4144a1f6fd8d2ca17a180786b69acc140d282b71a49"
      }
    },
    "colab": {
      "provenance": []
    }
  },
  "nbformat": 4,
  "nbformat_minor": 0
}